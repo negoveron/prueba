{
 "cells": [
  {
   "cell_type": "code",
   "execution_count": 1,
   "metadata": {},
   "outputs": [],
   "source": [
    "import pandas as pd\n",
    "import numpy as np\n",
    "from fastapi import FastAPI\n",
    "from fastapi.encoders import jsonable_encoder\n",
    "from fastapi.responses import JSONResponse\n",
    "    \n",
    "app = FastAPI()\n",
    "\n",
    "\n",
    "\n",
    "# Endpoints de la API\n",
    "# @profile\n",
    "@app.get('/cantidad_filmaciones_mes/{mes}')\n",
    "async def cantidad_filmaciones_mes(mes: str):\n",
    "    try:\n",
    "         \n",
    "        return {f\"108 películas fueron estrenadas en el mes de {mes.capitalize()}\"}\n",
    "\n",
    "    except Exception as e:\n",
    "        return {\"error\": str(e)}            \n",
    "    \n",
    "\n",
    "@app.get('/cantidad_filmaciones_dia/{dia}')\n",
    "async def cantidad_filmaciones_dia(dia: str): \n",
    "    try:  \n",
    "        \n",
    "        return {f\" 25 películas fueron estrenadas en los días {dia.capitalize()}\"}\n",
    "\n",
    "    except Exception as e:\n",
    "        return {\"error\": str(e)}   "
   ]
  }
 ],
 "metadata": {
  "kernelspec": {
   "display_name": "Python 3",
   "language": "python",
   "name": "python3"
  },
  "language_info": {
   "codemirror_mode": {
    "name": "ipython",
    "version": 3
   },
   "file_extension": ".py",
   "mimetype": "text/x-python",
   "name": "python",
   "nbconvert_exporter": "python",
   "pygments_lexer": "ipython3",
   "version": "3.10.12"
  }
 },
 "nbformat": 4,
 "nbformat_minor": 2
}
